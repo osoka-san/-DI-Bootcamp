{
  "nbformat": 4,
  "nbformat_minor": 0,
  "metadata": {
    "colab": {
      "provenance": []
    },
    "kernelspec": {
      "name": "python3",
      "display_name": "Python 3"
    },
    "language_info": {
      "name": "python"
    }
  },
  "cells": [
    {
      "cell_type": "markdown",
      "source": [
        "🌟 Exercise 1 : Linear Regression Analysis\n",
        "\n",
        "Instructions\n",
        "\n",
        "Objective: Apply linear regression to a dataset and interpret the results.\n",
        "\n",
        "Task: Given a dataset of housing prices (house_prices) and their corresponding sizes (house_sizes), use linear regression to predict the price of a house given its size.\n",
        "\n",
        "Dataset:\n",
        "\n",
        "house_sizes: [50, 70, 80, 100, 120] (in square meters)\n",
        "house_prices: [150,000, 200,000, 210,000, 250,000, 280,000] (in currency units)\n",
        "Questions:\n",
        "\n",
        "What is the slope and intercept of the regression line?\n",
        "Predict the price of a house that is 90 square meters.\n",
        "Interpret the meaning of the slope in the context of housing prices."
      ],
      "metadata": {
        "id": "in7GvbhiZMpz"
      }
    },
    {
      "cell_type": "code",
      "execution_count": 2,
      "metadata": {
        "colab": {
          "base_uri": "https://localhost:8080/"
        },
        "id": "fcezoJftZJOv",
        "outputId": "2da914c1-ce47-48e0-ff30-772e8cc3b0a6"
      },
      "outputs": [
        {
          "output_type": "stream",
          "name": "stdout",
          "text": [
            "Slope (m): 1828.7671232876712\n",
            "Intercept (b): 64383.56164383562\n",
            "Predicted price for a 90-square-meter house: 228972.60273972602\n",
            "Interpretation: For each additional square meter, the house price increases by 1828.7671232876712 currency units.\n"
          ]
        }
      ],
      "source": [
        "import numpy as np\n",
        "from scipy import stats\n",
        "\n",
        "house_sizes = np.array([50, 70, 80, 100, 120])\n",
        "house_prices = np.array([150000, 200000, 210000, 250000, 280000])\n",
        "\n",
        "\n",
        "slope, intercept, r_value, p_value, std_err = stats.linregress(house_sizes, house_prices)\n",
        "\n",
        "print(f\"Slope (m): {slope}\")\n",
        "print(f\"Intercept (b): {intercept}\")\n",
        "\n",
        "size_to_predict = 90\n",
        "predicted_price = slope * size_to_predict + intercept\n",
        "print(f\"Predicted price for a {size_to_predict}-square-meter house: {predicted_price}\")\n",
        "\n",
        "print(f\"Interpretation: For each additional square meter, the house price increases by {slope} currency units.\")"
      ]
    },
    {
      "cell_type": "markdown",
      "source": [
        "🌟 Exercise 2 : Understanding ANOVA\n",
        "\n",
        "Instructions\n",
        "\n",
        "Objective: Test understanding of ANOVA and its application.\n",
        "\n",
        "Task: Three different fertilizers are applied to three separate groups of plants to test their effectiveness. The growth in centimeters is recorded.\n",
        "\n",
        "Dataset:\n",
        "\n",
        "fertilizer_1: [5, 6, 7, 6, 5]\n",
        "fertilizer_2: [7, 8, 7, 9, 8]\n",
        "fertilizer_3: [4, 5, 4, 3, 4]\n",
        "Questions:\n",
        "\n",
        "Perform an ANOVA test on the given data. What are the F-value and P-value?\n",
        "Based on the P-value, do the fertilizers have significantly different effects on plant growth?\n",
        "Explain what would happen if the P-value were greater than 0.05."
      ],
      "metadata": {
        "id": "M6qXeFeCaXDa"
      }
    },
    {
      "cell_type": "code",
      "source": [
        "import numpy as np\n",
        "from scipy import stats\n",
        "\n",
        "fertilizer_1 = np.array([5, 6, 7, 6, 5])\n",
        "fertilizer_2 = np.array([7, 8, 7, 9, 8])\n",
        "fertilizer_3 = np.array([4, 5, 4, 3, 4])\n",
        "\n",
        "f_statistic, p_value = stats.f_oneway(fertilizer_1, fertilizer_2, fertilizer_3)\n",
        "\n",
        "print(f\"F-value: {f_statistic}\")\n",
        "print(f\"P-value: {p_value}\")\n",
        "\n",
        "alpha = 0.05  # Significance level\n",
        "if p_value < alpha:\n",
        "    print(\"Result: The fertilizers have significantly different effects on plant growth.\")\n",
        "else:\n",
        "    print(\"Result: No significant difference in the effects of the fertilizers on plant growth.\")"
      ],
      "metadata": {
        "colab": {
          "base_uri": "https://localhost:8080/"
        },
        "id": "GH-21BOUabN_",
        "outputId": "74f59845-8a40-450a-9755-a0a65bcb9989"
      },
      "execution_count": 3,
      "outputs": [
        {
          "output_type": "stream",
          "name": "stdout",
          "text": [
            "F-value: 28.52631578947368\n",
            "P-value: 2.7542672098048448e-05\n",
            "Result: The fertilizers have significantly different effects on plant growth.\n"
          ]
        }
      ]
    },
    {
      "cell_type": "markdown",
      "source": [
        "🌟 Exercise 3 : Probability Distributions\n",
        "\n",
        "Instructions\n",
        "\n",
        "Work with a binomial distribution: calculate probabilities for different numbers of successes.\n",
        "Example: Calculating the probability of getting exactly 5 heads in 10 coin flips."
      ],
      "metadata": {
        "id": "oZu97MzabJlw"
      }
    },
    {
      "cell_type": "code",
      "source": [
        "import numpy as np\n",
        "from scipy.stats import binom\n",
        "import matplotlib.pyplot as plt\n",
        "\n",
        "n = 10\n",
        "p = 0.5\n",
        "\n",
        "k = 5\n",
        "probability = binom.pmf(k, n, p)\n",
        "print(f\"Probability of getting exactly {k} successes in {n} trials: {probability}\")\n",
        "\n",
        "k_values = np.arange(n + 1)\n",
        "probabilities = binom.pmf(k_values, n, p)\n",
        "\n",
        "print(\"\\nNumber of Successes (k) and Corresponding Probabilities:\")\n",
        "for k_val, prob in zip(k_values, probabilities):\n",
        "    print(f\"k = {k_val}: P = {prob}\")\n",
        "\n",
        "cumulative_probability = binom.cdf(k, n, p)\n",
        "print(f\"\\nCumulative probability of getting up to {k} successes: {cumulative_probability}\")\n",
        "\n",
        "import matplotlib.pyplot as plt\n",
        "\n",
        "plt.bar(k_values, probabilities, color='skyblue', edgecolor='black')\n",
        "plt.xlabel('Number of Successes (k)')\n",
        "plt.ylabel('Probability')\n",
        "plt.title(f'Binomial Distribution PMF (n={n}, p={p})')\n",
        "plt.xticks(k_values)\n",
        "plt.grid(axis='y')\n",
        "plt.show()"
      ],
      "metadata": {
        "colab": {
          "base_uri": "https://localhost:8080/",
          "height": 744
        },
        "id": "rq4mF6Y5bfJS",
        "outputId": "a3d0de62-bcd0-4d18-a584-3bb3e8405647"
      },
      "execution_count": 4,
      "outputs": [
        {
          "output_type": "stream",
          "name": "stdout",
          "text": [
            "Probability of getting exactly 5 successes in 10 trials: 0.24609375000000003\n",
            "\n",
            "Number of Successes (k) and Corresponding Probabilities:\n",
            "k = 0: P = 0.0009765624999999989\n",
            "k = 1: P = 0.009765625000000002\n",
            "k = 2: P = 0.04394531250000004\n",
            "k = 3: P = 0.1171875\n",
            "k = 4: P = 0.2050781249999999\n",
            "k = 5: P = 0.24609375000000003\n",
            "k = 6: P = 0.2050781249999999\n",
            "k = 7: P = 0.11718749999999999\n",
            "k = 8: P = 0.04394531250000004\n",
            "k = 9: P = 0.009765625000000002\n",
            "k = 10: P = 0.0009765625\n",
            "\n",
            "Cumulative probability of getting up to 5 successes: 0.623046875\n"
          ]
        },
        {
          "output_type": "display_data",
          "data": {
            "text/plain": [
              "<Figure size 640x480 with 1 Axes>"
            ],
            "image/png": "[encoded data removed]"
          },
          "metadata": {}
        }
      ]
    },
    {
      "cell_type": "markdown",
      "source": [
        "🌟 Exercise 4 : Correlation Coefficients\n",
        "\n",
        "Instructions\n",
        "\n",
        "Calculate the Pearson and Spearman correlation coefficients between two variables in a dataset.\n",
        "Example in code: data = pd.DataFrame({'age': [23, 25, 30, 35, 40], 'income': [35000, 40000, 50000, 60000, 70000]}"
      ],
      "metadata": {
        "id": "ctFNLhdqcIa9"
      }
    },
    {
      "cell_type": "markdown",
      "source": [],
      "metadata": {
        "id": "pS_1LTRccf_1"
      }
    },
    {
      "cell_type": "code",
      "source": [
        "import pandas as pd\n",
        "from scipy import stats\n",
        "\n",
        "data = pd.DataFrame({\n",
        "    'age': [23, 25, 30, 35, 40],\n",
        "    'income': [35000, 40000, 50000, 60000, 70000]\n",
        "})\n",
        "\n",
        "age = data['age']\n",
        "income = data['income']\n",
        "\n",
        "pearson_corr, pearson_p_value = stats.pearsonr(age, income)\n",
        "print(f\"Pearson correlation coefficient: {pearson_corr}\")\n",
        "print(f\"P-value: {pearson_p_value}\")\n",
        "\n",
        "spearman_corr, spearman_p_value = stats.spearmanr(age, income)\n",
        "print(f\"\\nSpearman correlation coefficient: {spearman_corr}\")\n",
        "print(f\"P-value: {spearman_p_value}\")"
      ],
      "metadata": {
        "colab": {
          "base_uri": "https://localhost:8080/"
        },
        "id": "sAFZLo13cScm",
        "outputId": "a10ba524-88b3-4c1a-ff62-62a3fb04da9f"
      },
      "execution_count": 5,
      "outputs": [
        {
          "output_type": "stream",
          "name": "stdout",
          "text": [
            "Pearson correlation coefficient: 0.9996907452347202\n",
            "P-value: 6.528122732008978e-06\n",
            "\n",
            "Spearman correlation coefficient: 0.9999999999999999\n",
            "P-value: 1.4042654220543672e-24\n"
          ]
        }
      ]
    },
    {
      "cell_type": "markdown",
      "source": [
        "🌟 Exercise 5 : Linear Relationships\n",
        "\n",
        "Instructions\n",
        "\n",
        "Create a scatter plot of two variables (age and income) and visually assess the linear relationship. Use the dataset from Exercise 7."
      ],
      "metadata": {
        "id": "YvBZ0h1rd5Wt"
      }
    },
    {
      "cell_type": "code",
      "source": [
        "import pandas as pd\n",
        "import matplotlib.pyplot as plt\n",
        "\n",
        "# Data from Exercise 4\n",
        "data = pd.DataFrame({\n",
        "    'age': [23, 25, 30, 35, 40],\n",
        "    'income': [35000, 40000, 50000, 60000, 70000]\n",
        "})\n",
        "\n",
        "plt.scatter(data['age'], data['income'], color='blue')\n",
        "plt.xlabel('Age')\n",
        "plt.ylabel('Income')\n",
        "plt.title('Scatter Plot of Age vs. Income')\n",
        "plt.grid(True)\n",
        "plt.show()"
      ],
      "metadata": {
        "colab": {
          "base_uri": "https://localhost:8080/",
          "height": 472
        },
        "id": "XYhPSMPjd64o",
        "outputId": "7f14c639-be5d-4ca7-ff69-fd427c953928"
      },
      "execution_count": 6,
      "outputs": [
        {
          "output_type": "display_data",
          "data": {
            "text/plain": [
              "<Figure size 640x480 with 1 Axes>"
            ],
            "image/png": "[encoded data removed]"
          },
          "metadata": {}
        }
      ]
    }
  ]
}