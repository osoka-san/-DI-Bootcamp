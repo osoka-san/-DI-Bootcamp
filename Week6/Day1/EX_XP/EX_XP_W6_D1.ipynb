{
  "nbformat": 4,
  "nbformat_minor": 0,
  "metadata": {
    "colab": {
      "provenance": []
    },
    "kernelspec": {
      "name": "python3",
      "display_name": "Python 3"
    },
    "language_info": {
      "name": "python"
    }
  },
  "cells": [
    {
      "cell_type": "code",
      "execution_count": 5,
      "metadata": {
        "id": "jB4TQtjbKVI8"
      },
      "outputs": [],
      "source": [
        "import numpy as np\n"
      ]
    },
    {
      "cell_type": "markdown",
      "source": [
        "\n",
        "🌟 Exercise 1 : Array Creation and Manipulation\n",
        "Instructions\n",
        "Create a 1D NumPy array containing numbers from 0 to 9."
      ],
      "metadata": {
        "id": "q8jyxtIOK4B1"
      }
    },
    {
      "cell_type": "code",
      "source": [
        "array = np.arange(10)\n",
        "array"
      ],
      "metadata": {
        "colab": {
          "base_uri": "https://localhost:8080/"
        },
        "id": "1cZt7ujIK4uY",
        "outputId": "fa50b09c-9d48-4b74-9778-41b33d66799b"
      },
      "execution_count": 8,
      "outputs": [
        {
          "output_type": "execute_result",
          "data": {
            "text/plain": [
              "array([0, 1, 2, 3, 4, 5, 6, 7, 8, 9])"
            ]
          },
          "metadata": {},
          "execution_count": 8
        }
      ]
    },
    {
      "cell_type": "markdown",
      "source": [
        "🌟 Exercise 2 : Type Conversion and Array Operations\n",
        "Instructions\n",
        "Convert a list [3.14, 2.17, 0, 1, 2] into a NumPy array and convert its data type to integ"
      ],
      "metadata": {
        "id": "DQMLPHSyLTmv"
      }
    },
    {
      "cell_type": "code",
      "source": [
        "ar_list = [3.14, 2.17, 0, 1, 2]\n",
        "ar_list = np.array(ar_list)\n",
        "ar_list = ar_list.astype(int)\n",
        "ar_list"
      ],
      "metadata": {
        "colab": {
          "base_uri": "https://localhost:8080/"
        },
        "id": "3MKMNfZtLUZv",
        "outputId": "ea71f41a-900f-49fd-8046-0e0722625bc7"
      },
      "execution_count": 9,
      "outputs": [
        {
          "output_type": "execute_result",
          "data": {
            "text/plain": [
              "array([3, 2, 0, 1, 2])"
            ]
          },
          "metadata": {},
          "execution_count": 9
        }
      ]
    },
    {
      "cell_type": "markdown",
      "source": [
        "🌟 Exercise 3 : Working with Multi-Dimensional Arrays\n",
        "Instructions\n",
        "Create a 3x3 NumPy array with values ranging from 1 to 9."
      ],
      "metadata": {
        "id": "ipToGiviLk30"
      }
    },
    {
      "cell_type": "code",
      "source": [
        "array = np.arange(1, 10).reshape(3, 3)\n",
        "array"
      ],
      "metadata": {
        "colab": {
          "base_uri": "https://localhost:8080/"
        },
        "id": "-Zwfy1z_Lobp",
        "outputId": "98c535cd-ef97-49dc-a7d0-b496c4e906bc"
      },
      "execution_count": 10,
      "outputs": [
        {
          "output_type": "execute_result",
          "data": {
            "text/plain": [
              "array([[1, 2, 3],\n",
              "       [4, 5, 6],\n",
              "       [7, 8, 9]])"
            ]
          },
          "metadata": {},
          "execution_count": 10
        }
      ]
    },
    {
      "cell_type": "markdown",
      "source": [
        "🌟 Exercise 4 : Creating Multi-Dimensional Array with Random Numbers\n",
        "Instructions\n",
        "Create a 2D NumPy array of shape (4, 5) filled with random numbers.\n",
        "\n"
      ],
      "metadata": {
        "id": "EoW3hK1mLyrc"
      }
    },
    {
      "cell_type": "code",
      "source": [
        "array = np.random.rand(4, 5)\n",
        "array"
      ],
      "metadata": {
        "colab": {
          "base_uri": "https://localhost:8080/"
        },
        "id": "E0MU80t2LzlI",
        "outputId": "5ce41106-316b-48c3-92d5-5fd02e5b3554"
      },
      "execution_count": 17,
      "outputs": [
        {
          "output_type": "execute_result",
          "data": {
            "text/plain": [
              "array([[0.30110717, 0.55397987, 0.20093998, 0.49003789, 0.23731497],\n",
              "       [0.51154194, 0.48448488, 0.54517222, 0.51257951, 0.40425047],\n",
              "       [0.69366188, 0.39451691, 0.64460493, 0.52790839, 0.88376911],\n",
              "       [0.49999889, 0.09943632, 0.42042327, 0.74365074, 0.41586942]])"
            ]
          },
          "metadata": {},
          "execution_count": 17
        }
      ]
    },
    {
      "cell_type": "markdown",
      "source": [],
      "metadata": {
        "id": "Bm_guH1OMf42"
      }
    },
    {
      "cell_type": "markdown",
      "source": [
        "🌟 Exercise 5 : Indexing Arrays\n",
        "Instructions\n",
        "Select the second row from a given 2D NumPy array."
      ],
      "metadata": {
        "id": "ixHTtcGPMyj4"
      }
    },
    {
      "cell_type": "code",
      "source": [
        "array[1:2]"
      ],
      "metadata": {
        "colab": {
          "base_uri": "https://localhost:8080/"
        },
        "id": "9ldAzH7qM3If",
        "outputId": "2eb15a91-0042-44b1-980e-7756aea48cbc"
      },
      "execution_count": 19,
      "outputs": [
        {
          "output_type": "execute_result",
          "data": {
            "text/plain": [
              "array([[0.51154194, 0.48448488, 0.54517222, 0.51257951, 0.40425047]])"
            ]
          },
          "metadata": {},
          "execution_count": 19
        }
      ]
    },
    {
      "cell_type": "markdown",
      "source": [
        "🌟 Exercise 6 : Reversing elements\n",
        "Instructions\n",
        "Reverse the order of elements in a given 1D NumPy array (first element becomes last)."
      ],
      "metadata": {
        "id": "0zn-YfMhNKSu"
      }
    },
    {
      "cell_type": "code",
      "source": [
        "array = np.arange(10)\n",
        "array = array[::-1]\n",
        "array"
      ],
      "metadata": {
        "colab": {
          "base_uri": "https://localhost:8080/"
        },
        "id": "CEddv-u4NMKI",
        "outputId": "1944783c-4105-4a25-d321-6e5e9a2111c5"
      },
      "execution_count": 22,
      "outputs": [
        {
          "output_type": "execute_result",
          "data": {
            "text/plain": [
              "array([9, 8, 7, 6, 5, 4, 3, 2, 1, 0])"
            ]
          },
          "metadata": {},
          "execution_count": 22
        }
      ]
    },
    {
      "cell_type": "markdown",
      "source": [],
      "metadata": {
        "id": "sAOTVpjjPA2R"
      }
    },
    {
      "cell_type": "markdown",
      "source": [
        "🌟 Exercise 7 : Identity Matrix\n",
        "Instructions\n",
        "Create a 4x4 identity matrix using NumPy"
      ],
      "metadata": {
        "id": "ujax27K-Pbcs"
      }
    },
    {
      "cell_type": "code",
      "source": [
        "identity_matrix = np.eye(4)\n",
        "identity_matrix"
      ],
      "metadata": {
        "colab": {
          "base_uri": "https://localhost:8080/"
        },
        "id": "jX9Z_KlbPtnw",
        "outputId": "060aa5e5-16ab-4585-de4f-614e49a7b048"
      },
      "execution_count": 23,
      "outputs": [
        {
          "output_type": "execute_result",
          "data": {
            "text/plain": [
              "array([[1., 0., 0., 0.],\n",
              "       [0., 1., 0., 0.],\n",
              "       [0., 0., 1., 0.],\n",
              "       [0., 0., 0., 1.]])"
            ]
          },
          "metadata": {},
          "execution_count": 23
        }
      ]
    },
    {
      "cell_type": "markdown",
      "source": [
        "🌟 Exercise 8 : Simple Aggregate Funcs\n",
        "Instructions\n",
        "Find the sum and average of a given 1D array."
      ],
      "metadata": {
        "id": "CrmOkQ-GUAgY"
      }
    },
    {
      "cell_type": "code",
      "source": [
        "array = np.arange(10)\n",
        "print(f\"Sum: {array.sum()}\")\n",
        "print(f\"Mean: {array.mean()}\")"
      ],
      "metadata": {
        "colab": {
          "base_uri": "https://localhost:8080/"
        },
        "id": "tm2BtMsaUDVK",
        "outputId": "f71cd86e-bad6-45d1-9fe6-5bb40e4863ed"
      },
      "execution_count": 27,
      "outputs": [
        {
          "output_type": "stream",
          "name": "stdout",
          "text": [
            "Sum: 45\n",
            "Mean: 4.5\n"
          ]
        }
      ]
    },
    {
      "cell_type": "markdown",
      "source": [
        "🌟 Exercise 9 : Create Array and Change its Structure\n",
        "Instructions\n",
        "Create a NumPy array with elements from 1 to 20; then reshape it into a 4x5 matrix."
      ],
      "metadata": {
        "id": "Yg2hR4YmVCmt"
      }
    },
    {
      "cell_type": "code",
      "source": [
        "array = np.arange(1,21).reshape(4,5)\n",
        "array\n"
      ],
      "metadata": {
        "colab": {
          "base_uri": "https://localhost:8080/"
        },
        "id": "zPL5IP3xVCTO",
        "outputId": "57d084c1-a692-4f87-b6ec-52fee570cbb7"
      },
      "execution_count": 29,
      "outputs": [
        {
          "output_type": "execute_result",
          "data": {
            "text/plain": [
              "array([[ 1,  2,  3,  4,  5],\n",
              "       [ 6,  7,  8,  9, 10],\n",
              "       [11, 12, 13, 14, 15],\n",
              "       [16, 17, 18, 19, 20]])"
            ]
          },
          "metadata": {},
          "execution_count": 29
        }
      ]
    },
    {
      "cell_type": "markdown",
      "source": [
        "🌟 Exercise 10 : Conditional Selection of Values\n",
        "Instructions\n",
        "Extract all odd numbers from a given NumPy array."
      ],
      "metadata": {
        "id": "hT0ctVUGVWJf"
      }
    },
    {
      "cell_type": "code",
      "source": [
        "array = np.arange(10)\n",
        "array = array[array % 2 == 1]\n",
        "array"
      ],
      "metadata": {
        "colab": {
          "base_uri": "https://localhost:8080/"
        },
        "id": "ZPmiTou0VZPS",
        "outputId": "fbfecd86-5cf1-4f48-e770-877d1f109ec4"
      },
      "execution_count": 30,
      "outputs": [
        {
          "output_type": "execute_result",
          "data": {
            "text/plain": [
              "array([1, 3, 5, 7, 9])"
            ]
          },
          "metadata": {},
          "execution_count": 30
        }
      ]
    },
    {
      "cell_type": "markdown",
      "source": [],
      "metadata": {
        "id": "oF4RLwIpVgm0"
      }
    }
  ]
}