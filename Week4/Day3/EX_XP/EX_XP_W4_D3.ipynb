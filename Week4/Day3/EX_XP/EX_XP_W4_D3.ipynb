{
  "nbformat": 4,
  "nbformat_minor": 0,
  "metadata": {
    "colab": {
      "provenance": []
    },
    "kernelspec": {
      "name": "python3",
      "display_name": "Python 3"
    },
    "language_info": {
      "name": "python"
    }
  },
  "cells": [
    {
      "cell_type": "code",
      "execution_count": null,
      "metadata": {
        "id": "Dzzoe2OEIdZN"
      },
      "outputs": [],
      "source": []
    },
    {
      "cell_type": "markdown",
      "source": [],
      "metadata": {
        "id": "MLH9uO9fId2b"
      }
    },
    {
      "cell_type": "markdown",
      "source": [
        "🌟 Exercise 1: Identifying Data Types\n",
        "Below are various data sources. Identify whether each one is an example of structured or unstructured data.\n",
        "\n",
        "A company’s financial reports stored in an Excel file.\n",
        "\n",
        "Photographs uploaded to a social media platform.\n",
        "\n",
        "A collection of news articles on a website.\n",
        "\n",
        "Inventory data in a relational database.\n",
        "\n",
        "Recorded interviews from a market research study.\n",
        "\n",
        "\n",
        "\n",
        "\t1.\tA company’s financial reports stored in an Excel file:\n",
        "\t•\tData Type: Structured Data\n",
        "\t2.\tPhotographs uploaded to a social media platform:\n",
        "\t•\tData Type: Unstructured Data\n",
        "\t3.\tA collection of news articles on a website:\n",
        "\t•\tData Type: Unstructured Data\n",
        "\t4.\tInventory data in a relational database:\n",
        "\t•\tData Type: Structured Data\n",
        "\t5.\tRecorded interviews from a market research study:\n",
        "\t•\tData Type: Unstructured Data"
      ],
      "metadata": {
        "id": "Upvpu55CIecD"
      }
    },
    {
      "cell_type": "markdown",
      "source": [],
      "metadata": {
        "id": "KVuYkmNdJU-V"
      }
    },
    {
      "cell_type": "markdown",
      "source": [
        "🌟 Exercise 2: Transformation Exercise\n",
        "For each of the following unstructured data sources, propose a method to convert it into structured data. Explain your reasoning.\n",
        "\n",
        "A series of blog posts about travel experiences.\n",
        "\n",
        "Audio recordings of customer service calls.\n",
        "\n",
        "Handwritten notes from a brainstorming session.\n",
        "\n",
        "A video tutorial on cooking.\n",
        "\n",
        "1.A series of blog posts about travel experiences.\n",
        "\n",
        "Method: extracting key information\n",
        "\n",
        "Read through rhe blog posts and pick out important details like location, dates, events and costs. Then organize this information into a table with likewise columns.\n",
        "\n",
        "2.Audio recordings of customer service calls.\n",
        "\n",
        "Method: Speech-to-Text conversion and categorization\n",
        "\n",
        "Convert the audio to text using speech recognition software. Categorize the content, such as Complaints, Product Inquiries, and Service Requests. Organize this data into a table\n",
        "\n",
        "3.Handwritten notes from a brainstorming session.\n",
        "\n",
        "Method: Text conversion and idea organization\n",
        "\n",
        "Use OCR (Optical Character Recognition) software to convert the handwritten notes into digital text. Organize the ideas and create a table with columns like Idea, Category, Person, and Priority.\n",
        "\n",
        "4.A video tutorial on cooking.\n",
        "\n",
        "Method: transcription and Step-by-Step breakdown\n",
        "\n",
        "Convert the audio from the video into text. Then, break down the recipe into individual steps, listing the ingredients, quantities, and cooking techniques. Organize this into a table with columns"
      ],
      "metadata": {
        "id": "iNJDGEX9JWQv"
      }
    },
    {
      "cell_type": "markdown",
      "source": [
        "🌟 Exercise 3: Application Scenario\n",
        "You are a data analyst at a retail company. You have access to various data sources, including transaction records, customer feedback comments, social media posts about your brand, and employee work schedules.\n",
        "\n",
        "Categorize each of these data sources as structured or unstructured.\n",
        "Suggest how you might use each type of data for improving the company’s business operations.\n",
        "\n",
        "1. Transaction Records\n",
        "\n",
        "Type: Structured Data\n",
        "\n",
        "Transaction records typically include details like product IDs, prices, quantities, dates, and customer information. Analyze this data to identify sales trends, determine the most popular products, optimize inventory levels, and adjust pricing strategies\n",
        "\n",
        "2. Customer Feedback Comments\n",
        "\n",
        "Type: Unstructured Data\n",
        "\n",
        "Customer feedback comments often come in the form of free text, making them unstructured. Possible to use sentiment analysis to gather overall customer satisfaction, identify common complaints, and understand what aspects of service or products customers like or dislike.\n",
        "\n",
        "3. Social Media Posts About Your Brand\n",
        "\n",
        "Type: Unstructured Data\n",
        "\n",
        "Social media posts are another form of unstructured data. Analyzing these posts can provide insights into brand perception, customer sentiment, and emerging trends,adust marketing strategies based on what customers are saying online.\n",
        "\n",
        "4. Employee Work Schedules\n",
        "\n",
        "Type: Structured Data\n",
        "\n",
        "Employee work schedules are structured data. Analyzing this data can help you optimize staffing levels to ensure that  stores are adequately staffed during peak hours and not overstaffed during slow periods.\n",
        "\n",
        "\n"
      ],
      "metadata": {
        "id": "-CSnKxZtNydu"
      }
    },
    {
      "cell_type": "markdown",
      "source": [
        "🌟 Exercise 4 : Import a file from Kaggle\n",
        "Import the titanic dataset that you can find on Kaggle.\n",
        "\n",
        "Print the first few rows of the DataFrame.\n"
      ],
      "metadata": {
        "id": "A8Uqub4bQBWo"
      }
    },
    {
      "cell_type": "code",
      "source": [
        "import pandas as pd\n",
        "titanic_df = pd.read_csv('/content/titanic_ds.csv')\n",
        "print(titanic_df.head())"
      ],
      "metadata": {
        "colab": {
          "base_uri": "https://localhost:8080/"
        },
        "id": "AVHmRpBtQZ6w",
        "outputId": "2c6e18f4-2b96-43ce-8e94-37a77f7fb1db"
      },
      "execution_count": null,
      "outputs": [
        {
          "output_type": "stream",
          "name": "stdout",
          "text": [
            "   PassengerId  Survived  Pclass  \\\n",
            "0          892         0       3   \n",
            "1          893         1       3   \n",
            "2          894         0       2   \n",
            "3          895         0       3   \n",
            "4          896         1       3   \n",
            "\n",
            "                                           Name     Sex   Age  SibSp  Parch  \\\n",
            "0                              Kelly, Mr. James    male  34.5      0      0   \n",
            "1              Wilkes, Mrs. James (Ellen Needs)  female  47.0      1      0   \n",
            "2                     Myles, Mr. Thomas Francis    male  62.0      0      0   \n",
            "3                              Wirz, Mr. Albert    male  27.0      0      0   \n",
            "4  Hirvonen, Mrs. Alexander (Helga E Lindqvist)  female  22.0      1      1   \n",
            "\n",
            "    Ticket     Fare Cabin Embarked  \n",
            "0   330911   7.8292   NaN        Q  \n",
            "1   363272   7.0000   NaN        S  \n",
            "2   240276   9.6875   NaN        Q  \n",
            "3   315154   8.6625   NaN        S  \n",
            "4  3101298  12.2875   NaN        S  \n"
          ]
        }
      ]
    },
    {
      "cell_type": "markdown",
      "source": [
        "🌟 Exercise 5: Importing a CSV File\n",
        "Use the Iris Dataset CSV.\n",
        "\n",
        "Download the Iris dataset CSV file and place it in the same directory as your Jupyter Notebook.\n",
        "Import the CSV file using Pandas.\n",
        "Display the first five rows of the dataset\n"
      ],
      "metadata": {
        "id": "WL190gswS8EX"
      }
    },
    {
      "cell_type": "code",
      "source": [
        "iris_ds = pd.read_csv('/content/iris_ds.csv')\n",
        "print(iris_ds.head())"
      ],
      "metadata": {
        "colab": {
          "base_uri": "https://localhost:8080/"
        },
        "id": "8Y61juzJTFZB",
        "outputId": "12eb8ff4-0688-4124-ce40-7c31f9f85029"
      },
      "execution_count": null,
      "outputs": [
        {
          "output_type": "stream",
          "name": "stdout",
          "text": [
            "   5.1  3.5  1.4  0.2  Iris-setosa\n",
            "0  4.9  3.0  1.4  0.2  Iris-setosa\n",
            "1  4.7  3.2  1.3  0.2  Iris-setosa\n",
            "2  4.6  3.1  1.5  0.2  Iris-setosa\n",
            "3  5.0  3.6  1.4  0.2  Iris-setosa\n",
            "4  5.4  3.9  1.7  0.4  Iris-setosa\n"
          ]
        }
      ]
    },
    {
      "cell_type": "markdown",
      "source": [
        "🌟 Exercise 6 : Export a dataframe to excel format and JSON format.\n",
        "Create a simple dataframe.\n",
        "Export the dataframe to an excel file.\n",
        "Export the dataframe to a JSON file.\n"
      ],
      "metadata": {
        "id": "6PVQNxRjTdre"
      }
    },
    {
      "cell_type": "code",
      "source": [
        "data = {\n",
        "    'Name': ['John', 'Christine', 'Jake',],\n",
        "    'Age': [17 ,18, 24],\n",
        "    'Occupancy': ['Footbal player', 'Painter', 'Photographer']\n",
        "}\n",
        "df = pd.DataFrame(data)\n",
        "print(df)\n",
        "df.to_excel('simpledf.xlsx', index=False)\n",
        "df.to_json('simpledf.json')"
      ],
      "metadata": {
        "colab": {
          "base_uri": "https://localhost:8080/"
        },
        "id": "xM6tBJUrTpGW",
        "outputId": "9c3bef14-6645-4abd-cd17-61523a6cfce0"
      },
      "execution_count": null,
      "outputs": [
        {
          "output_type": "stream",
          "name": "stdout",
          "text": [
            "        Name  Age       Occupancy\n",
            "0       John   17  Footbal player\n",
            "1  Christine   18         Painter\n",
            "2       Jake   24    Photographer\n"
          ]
        }
      ]
    },
    {
      "cell_type": "markdown",
      "source": [
        "\n",
        "🌟 Exercise 7: Reading JSON Data\n",
        "Use a sample JSON dataset\n",
        "\n",
        "Import the JSON data from the provided URL.\n",
        "Use Pandas to read the JSON data.\n",
        "Display the first five entries of the data.\n",
        "\n",
        "\n"
      ],
      "metadata": {
        "id": "5mfHPDwNVxzm"
      }
    },
    {
      "cell_type": "code",
      "source": [
        "import requests\n",
        "\n",
        "url = 'https://jsonplaceholder.typicode.com/posts'\n",
        "response = requests.get(url)\n",
        "json_data = response.json()\n",
        "\n",
        "df = pd.DataFrame(json_data)\n",
        "print(df.head())"
      ],
      "metadata": {
        "colab": {
          "base_uri": "https://localhost:8080/"
        },
        "id": "mIMMtR6-Vn2a",
        "outputId": "863c8296-153e-4483-c0ab-0c72dad957f0"
      },
      "execution_count": null,
      "outputs": [
        {
          "output_type": "stream",
          "name": "stdout",
          "text": [
            "   userId  id                                              title  \\\n",
            "0       1   1  sunt aut facere repellat provident occaecati e...   \n",
            "1       1   2                                       qui est esse   \n",
            "2       1   3  ea molestias quasi exercitationem repellat qui...   \n",
            "3       1   4                               eum et est occaecati   \n",
            "4       1   5                                 nesciunt quas odio   \n",
            "\n",
            "                                                body  \n",
            "0  quia et suscipit\\nsuscipit recusandae consequu...  \n",
            "1  est rerum tempore vitae\\nsequi sint nihil repr...  \n",
            "2  et iusto sed quo iure\\nvoluptatem occaecati om...  \n",
            "3  ullam et saepe reiciendis voluptatem adipisci\\...  \n",
            "4  repudiandae veniam quaerat sunt sed\\nalias aut...  \n"
          ]
        }
      ]
    },
    {
      "cell_type": "markdown",
      "source": [],
      "metadata": {
        "id": "N-SeXmLnVnlP"
      }
    }
  ]
}