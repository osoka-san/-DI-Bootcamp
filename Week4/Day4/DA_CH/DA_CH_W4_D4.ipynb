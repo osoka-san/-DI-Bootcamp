{
  "nbformat": 4,
  "nbformat_minor": 0,
  "metadata": {
    "colab": {
      "provenance": []
    },
    "kernelspec": {
      "name": "python3",
      "display_name": "Python 3"
    },
    "language_info": {
      "name": "python"
    }
  },
  "cells": [
    {
      "cell_type": "markdown",
      "source": [
        "Download and import the Data Science Job Salary dataset.\n",
        "Normalize the ‘salary’ column using Min-Max normalization.\n",
        "Implement dimensionality reduction on the dataset.\n",
        "Aggregate data by ‘experience_level’, calculating average and median salaries.\n"
      ],
      "metadata": {
        "id": "Ge0_EoZTHQnC"
      }
    },
    {
      "cell_type": "code",
      "source": [
        "import pandas as pd\n",
        "from sklearn.preprocessing import MinMaxScaler\n",
        "from sklearn.decomposition import PCA\n",
        "df = pd.read_csv('/content/datascience_salaries.csv')\n",
        "print(df.head())\n",
        "scaler = MinMaxScaler()\n",
        "df['salary_normalized'] = scaler.fit_transform(df[['salary']])\n",
        "print(\"\\nSalary column after Min-Max normalization:\")\n",
        "print(df[['salary', 'salary_normalized']].head())\n",
        "numerical_cols = df.select_dtypes(include=['float64', 'int64']).columns\n",
        "pca = PCA(n_components=2)\n",
        "df_pca = pca.fit_transform(df[numerical_cols])\n",
        "df_pca = pd.DataFrame(df_pca, columns=['PCA1', 'PCA2'])\n",
        "print(\"\\nPCA result:\")\n",
        "print(df_pca.head())\n",
        "salary_aggregates = df.groupby('experience_level')['salary'].agg(['mean', 'median'])\n",
        "print(\"\\nAggregated salary data by experience level:\")\n",
        "print(salary_aggregates)\n"
      ],
      "metadata": {
        "colab": {
          "base_uri": "https://localhost:8080/"
        },
        "id": "thtrTB87HSLy",
        "outputId": "b8cff11e-d1ed-4a2a-de68-7026928b622f"
      },
      "execution_count": 3,
      "outputs": [
        {
          "output_type": "stream",
          "name": "stdout",
          "text": [
            "   Unnamed: 0       job_title   job_type experience_level       location  \\\n",
            "0           0  Data scientist  Full Time           Senior  New York City   \n",
            "1           2  Data scientist  Full Time           Senior         Boston   \n",
            "2           3  Data scientist  Full Time           Senior         London   \n",
            "3           4  Data scientist  Full Time           Senior         Boston   \n",
            "4           5  Data scientist  Full Time           Senior  New York City   \n",
            "\n",
            "  salary_currency  salary  \n",
            "0             USD  149000  \n",
            "1             USD  120000  \n",
            "2             USD   68000  \n",
            "3             USD  120000  \n",
            "4             USD  149000  \n",
            "\n",
            "Salary column after Min-Max normalization:\n",
            "   salary  salary_normalized\n",
            "0  149000           0.601010\n",
            "1  120000           0.454545\n",
            "2   68000           0.191919\n",
            "3  120000           0.454545\n",
            "4  149000           0.601010\n",
            "\n",
            "PCA result:\n",
            "           PCA1        PCA2\n",
            "0  84163.766081 -949.193183\n",
            "1  55163.767131 -941.138351\n",
            "2   3163.768472 -929.281412\n",
            "3  55163.767548 -939.138352\n",
            "4  84163.767125 -944.193183\n",
            "\n",
            "Aggregated salary data by experience level:\n",
            "                          mean   median\n",
            "experience_level                       \n",
            "Entry             36111.111111  30000.0\n",
            "Executive         76076.923077  46000.0\n",
            "Mid               51786.885246  51000.0\n",
            "Senior            75088.033012  68000.0\n"
          ]
        }
      ]
    }
  ]
}