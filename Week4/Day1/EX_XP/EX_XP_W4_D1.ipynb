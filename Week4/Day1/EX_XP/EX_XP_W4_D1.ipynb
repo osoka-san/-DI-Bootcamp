{
  "nbformat": 4,
  "nbformat_minor": 0,
  "metadata": {
    "colab": {
      "provenance": [],
      "authorship_tag": "ABX9TyMQ4vzbsdY4Gr+oGvGGILlo",
      "include_colab_link": true
    },
    "kernelspec": {
      "name": "python3",
      "display_name": "Python 3"
    },
    "language_info": {
      "name": "python"
    }
  },
  "cells": [
    {
      "cell_type": "markdown",
      "metadata": {
        "id": "view-in-github",
        "colab_type": "text"
      },
      "source": [
        "<a href=\"https://colab.research.google.com/github/osoka-san/-DI-Bootcamp/blob/main/EX_XP_W4_D1.ipynb\" target=\"_parent\"><img src=\"https://colab.research.google.com/assets/colab-badge.svg\" alt=\"Open In Colab\"/></a>"
      ]
    },
    {
      "cell_type": "markdown",
      "source": [
        "Exercise 1: Introduction to Data Analysis (Easy)\n",
        "\n",
        "\n",
        "Objective: Understand the basic overview and significance of data analysis.\n",
        "Task:\n",
        "Write a short essay or report on the following topics:\n",
        "\n",
        "What is data analysis?\n",
        "Why is data analysis important in modern contexts?\n",
        "List and describe three areas where data analysis is applied today.\n",
        "Hint/Tip:\n",
        "\n",
        "Research current trends in data analysis and real-world examples to provide depth to your essay.\n",
        "\n",
        "Data analysis is the process of systematically applying statistical and logical techniques to describe, illustrate, condense, and evaluate data. It involves inspecting, cleaning, transforming, and modeling data with the goal of discovering useful information, drawing conclusions, and supporting decision-making. In essence, data analysis allows to make sense of large volumes of data by uncovering patterns, relationships, and trends that are not immediately obvious.\n",
        "\n",
        "Why is Data Analysis Important in Modern Contexts?\n",
        "\n",
        "In today’s data-driven world, data analysis plays a crucial role in various aspects of life, from business decisions to scientific research and public policy. Here are a few reasons why data analysis is so important:\n",
        "  1.\tInformed Decision-Making: In business, government, and healthcare, decisions are increasingly based on data. Data analysis provides the evidence needed to make well-informed choices, reducing uncertainty and risk.\n",
        "\t2.\tEfficiency and Optimization: By analyzing data, organizations can identify inefficiencies and optimize their processes. For example, businesses can use data analysis to streamline their operations, reduce costs, and improve customer satisfaction.\n",
        "\t3.\tInnovation and Competitive Advantage: Companies that effectively leverage data analysis can gain insights into customer behavior, market trends, and emerging opportunities. This can lead to innovative products, services, and strategies that give them a competitive edge.\n",
        "\t4.\tPersonalization: Data analysis enables personalized experiences, whether in marketing, healthcare, or entertainment. By understanding individual preferences and behaviors, organizations can tailor their offerings to meet specific needs.\n",
        "\t5.\tPredictive Capabilities: With the rise of big data and machine learning, data analysis has evolved to include predictive analytics. This allows organizations to anticipate future trends and outcomes, enabling proactive rather than reactive strategies.\n",
        "\n",
        "1.\tHealthcare:\n",
        "\t•\tIn healthcare, data analysis is used to improve patient outcomes, reduce costs, and enhance the efficiency of care delivery. For instance, predictive analytics can help identify patients at high risk for certain conditions, enabling early intervention. Additionally, analyzing large datasets from electronic health records (EHRs) can uncover trends in patient populations, guiding public health initiatives.\n",
        "2.\tFinance:\n",
        "\t•\tThe finance industry relies heavily on data analysis for risk management, fraud detection, and investment strategies. Financial institutions use data analysis to monitor transactions for suspicious activities, assess credit risks, and optimize portfolios. High-frequency trading, a method that uses algorithms to trade stocks in milliseconds, also depends on real-time data analysis.\n",
        "3.\tRetail and E-commerce:\n",
        "\t•\tIn retail and e-commerce, data analysis helps companies understand consumer behavior, optimize pricing strategies, and improve inventory management. By analyzing sales data, companies can identify which products are popular, predict future demand, and adjust their stock levels accordingly. Additionally, personalized recommendations and targeted marketing campaigns are driven by data analysis of customer interactions and preferences."
      ],
      "metadata": {
        "id": "wLno3FC0YDHP"
      }
    },
    {
      "cell_type": "code",
      "source": [
        "\n",
        "import pandas as pd\n",
        "df = pd.read_csv('Time Americans Spend Sleeping.csv')\n",
        "print(df.head())"
      ],
      "metadata": {
        "colab": {
          "base_uri": "https://localhost:8080/"
        },
        "id": "t9CMdOYgZVp_",
        "outputId": "ad0be0c9-4c0c-4542-aab0-08f2418b96cb"
      },
      "execution_count": 3,
      "outputs": [
        {
          "output_type": "stream",
          "name": "stdout",
          "text": [
            "   index  Year  Period  Avg hrs per day sleeping  Standard Error Type of Days  \\\n",
            "0      0  2003  Annual                      8.57           0.018     All days   \n",
            "1      1  2004  Annual                      8.55           0.026     All days   \n",
            "2      2  2005  Annual                      8.62           0.023     All days   \n",
            "3      3  2006  Annual                      8.63           0.024     All days   \n",
            "4      4  2007  Annual                      8.57           0.024     All days   \n",
            "\n",
            "           Age Group  Activity   Sex  \n",
            "0  15 years and over  Sleeping  Both  \n",
            "1  15 years and over  Sleeping  Both  \n",
            "2  15 years and over  Sleeping  Both  \n",
            "3  15 years and over  Sleeping  Both  \n",
            "4  15 years and over  Sleeping  Both  \n"
          ]
        }
      ]
    },
    {
      "cell_type": "markdown",
      "source": [
        "\n",
        "🌟Exercise 3: Identifying Data Types\n",
        "\n",
        "\n",
        "Objective: Learn to identify different data types.\n",
        "Task:\n",
        "For the datasets from the previous exercise, categorize each column of it as either quantitative or qualitative and explain your reasoning.\n",
        "\n",
        "🌟Exercise 4: Exploring Data Types\n",
        "\n",
        "\n",
        "Objective: Learn about different types of data in data analysis.\n",
        "Task:\n",
        "Load the Iris dataset using Kaggle into a Jupyter Notebook or Google Colaboratory Notebook.\n",
        "Identify and list which columns in your dataset are qualitative and which are quantitative.\n",
        "Write a brief description of why each column is classified as qualitative or quantitative.\n",
        "Tools: Jupyter Notebook, Python with Pandas library."
      ],
      "metadata": {
        "id": "OQWlSIbUZyrq"
      }
    },
    {
      "cell_type": "markdown",
      "source": [
        "  1.\tindex:\n",
        "\t•\tData Type: Qualitative\n",
        "\t•\tReasoning: This column serves as a row identifier\n",
        "  2.\tYear:\n",
        "\t•\tData Type: Qualitative\n",
        "\t•\tReasoning: this column represent years and are therefore better viewed as categorical data.\n",
        "  3.\tPeriod:\n",
        "\t•\tData Type: Qualitative\n",
        "\t•\tReasoning: This column indicates the period, and its values might be “Annual” or other, making it a categorical variable.\n",
        "  4.\tAvg hrs per day sleeping:\n",
        "\t•\tData Type: Quantitative\n",
        "\t•\tReasoning: This column represents the average number of hours of sleep per day, which is numerical and can be used for analysis.\n",
        "  5.\tStandard Error:\n",
        "\t•\tData Type: Quantitative\n",
        "\t•\tReasoning: This column represents the standard error, which is also a numerical value and suitable for analysis.\n",
        "  6.\tType of Days:\n",
        "\t•\tData Type: Qualitative\n",
        "\t•\tReasoning: This column indicates the type of days (e.g., “All days”), which is categorical information.\n",
        "  7.\tAge Group:\n",
        "\t•\tData Type: Qualitative\n",
        "\t•\tReasoning: The column indicates an age group, making it a categorical variable.\n",
        "  8.\tActivity:\n",
        "\t•\tData Type: Qualitative\n",
        "\t•\tReasoning: This column indicates the type of activity, which is also a categorical variable.\n",
        "  9.\tSex:\n",
        "\t•\tData Type: Qualitative\n",
        "\t•\tReasoning: This column contains categories related to gender and therefore is qualitative."
      ],
      "metadata": {
        "id": "U5wjYkGVaXz6"
      }
    },
    {
      "cell_type": "markdown",
      "source": [],
      "metadata": {
        "id": "OY9thPxnbmti"
      }
    },
    {
      "cell_type": "markdown",
      "source": [
        "🌟Exercise 5: Basic Data Analysis with Google Colab\n",
        "\n",
        "\n",
        "Objective: Perform basic data analysis using Google Colab.\n",
        "Task:\n",
        "Using the same notebook from the previous exercise, perform basic data analysis tasks:\n",
        "Calculate the mean, median, and mode of a quantitative column.\n",
        "Create a simple plot (like a histogram or bar chart) to visualize the data using Matplotlib/Seaborn libraries :\n",
        "\n",
        "import matplotlib.pyplot as plt\n",
        "plt.plot(data['Name_column1'], data['Name_column2'])\n",
        "plt.show()\n",
        "\n",
        "Document your findings in the notebook.\n"
      ],
      "metadata": {
        "id": "0goSLd-eb1uI"
      }
    },
    {
      "cell_type": "code",
      "source": [
        "mean_value = df['Avg hrs per day sleeping'].mean()\n",
        "\n",
        "median_value = df['Avg hrs per day sleeping'].median()\n",
        "\n",
        "mode_value = df['Avg hrs per day sleeping'].mode()[0]\n",
        "\n",
        "print (mean_value, median_value, mode_value)"
      ],
      "metadata": {
        "colab": {
          "base_uri": "https://localhost:8080/"
        },
        "id": "tsoI_OZTb8nS",
        "outputId": "4cccf5f1-81b8-4782-909a-c3a27da74fe2"
      },
      "execution_count": 7,
      "outputs": [
        {
          "output_type": "stream",
          "name": "stdout",
          "text": [
            "8.806867724867725 8.81 9.34\n"
          ]
        }
      ]
    },
    {
      "cell_type": "markdown",
      "source": [
        "🌟Exercise 6: Basic Observation Skills in Data Analysis\n",
        "\n",
        "\n",
        "Objective: Develop observation skills for data analysis.\n",
        "Task:\n",
        "Load the How Much Sleep Do Americans Really Get? dataset into Jupyter or Google Colab.\n",
        "Identify columns that could be interesting for a specific type of analysis (e.g., trend analysis, group comparison) and explain your choice.\n",
        "Tools: Jupyter Notebook, Python with Pandas library.\n",
        "\n",
        "\n",
        "  Columns: Period, Year, Avg hrs per day sleeping\n",
        "  \n",
        "  Reasoning: The Period column, combined with Year, can be used to perform temporal analysis, observing how the sleep duration changes across different periods or seasons. This could be useful for identifying seasonal patterns or any anomalies in specific periods.\n",
        "\n"
      ],
      "metadata": {
        "id": "RFqjexAcc9eS"
      }
    },
    {
      "cell_type": "code",
      "source": [],
      "metadata": {
        "id": "qewBGkNqc9LL"
      },
      "execution_count": null,
      "outputs": []
    }
  ]
}