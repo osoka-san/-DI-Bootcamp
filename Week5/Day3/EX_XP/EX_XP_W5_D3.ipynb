{
  "nbformat": 4,
  "nbformat_minor": 0,
  "metadata": {
    "colab": {
      "provenance": []
    },
    "kernelspec": {
      "name": "python3",
      "display_name": "Python 3"
    },
    "language_info": {
      "name": "python"
    }
  },
  "cells": [
    {
      "cell_type": "markdown",
      "source": [
        "Dataset\n",
        "In these exercises, we’re going to experiment with the Chinook sample DB while using SQLAlchemy module\n",
        "\n",
        "First, run the code below to download the database locally\n",
        "\n",
        "\n",
        "\n",
        "### download and extract chinook sample DB\n",
        "import urllib.request\n",
        "import zipfile\n",
        "from functools import partial\n",
        "import os\n",
        "\n",
        "chinook_url = 'http://www.sqlitetutorial.net/wp-content/uploads/2018/03/chinook.zip'\n",
        "if not os.path.exists('chinook.zip'):\n",
        "    print('downloading chinook.zip ', end='')\n",
        "    with urllib.request.urlopen(chinook_url) as response:\n",
        "        with open('chinook.zip', 'wb') as f:\n",
        "            for data in iter(partial(response.read, 4*1024), b''):\n",
        "                print('.', end='', flush=True)\n",
        "                f.write(data)\n",
        "\n",
        "zipfile.ZipFile('chinook.zip').extractall()\n",
        "assert os.path.exists('chinook.db')\n",
        "\n",
        "\n",
        "The helper methods below will help, you may use for the following exercises :\n",
        "\n",
        "\n",
        "\n",
        "### useful: functions for displaying results from sql queries using pandas\n",
        "from IPython.display import display\n",
        "import pandas as pd\n",
        "\n",
        "def sql(query):\n",
        "    print()\n",
        "    print(query)\n",
        "    print()\n",
        "\n",
        "def get_results(query):\n",
        "    global engine\n",
        "    q = query.statement if isinstance(query, sqlalchemy.orm.query.Query) else query\n",
        "    return pd.read_sql(q, engine)\n",
        "\n",
        "def display_results(query):\n",
        "    df = get_results(query)\n",
        "    display(df)\n",
        "    sql(query)\n",
        "\n",
        "\n",
        "\n",
        "🌟 Exercise 1 : Open the database\n",
        "open the database using sqlalchemy module interface. create an engine object in a variable named engine\n",
        "call the connect() method to obtain a connection and place in a variable named cur\n",
        "now run the code below to to run reflecton on the database, prepare classes that map to the database and create an orm session :\n",
        "\n",
        "### useful: extract classes from the chinook database\n",
        "metadata = sqlalchemy.MetaData()\n",
        "metadata.reflect(engine)\n",
        "\n",
        "## we need to do this once\n",
        "from sqlalchemy.ext.automap import automap_base\n",
        "\n",
        "# produce a set of mappings from this MetaData.\n",
        "Base = automap_base(metadata=metadata)\n",
        "\n",
        "# calling prepare() just sets up mapped classes and relationships.\n",
        "Base.prepare()\n",
        "\n",
        "# also prepare an orm session\n",
        "from sqlalchemy.orm import sessionmaker\n",
        "Session = sessionmaker(bind=engine)\n",
        "session = Session()"
      ],
      "metadata": {
        "id": "4RiAyEOMzirJ"
      }
    },
    {
      "cell_type": "code",
      "source": [
        "from IPython.display import display\n",
        "import pandas as pd\n",
        "\n",
        "def sql(query):\n",
        "    print()\n",
        "    print(query)\n",
        "    print()\n",
        "\n",
        "def get_results(query):\n",
        "    global engine\n",
        "    q = query.statement if isinstance(query, sqlalchemy.orm.query.Query) else query\n",
        "    return pd.read_sql(q, engine)\n",
        "\n",
        "def display_results(query):\n",
        "    df = get_results(query)\n",
        "    display(df)\n",
        "    sql(query)"
      ],
      "metadata": {
        "id": "SsRoB_29zmhH"
      },
      "execution_count": 2,
      "outputs": []
    },
    {
      "cell_type": "code",
      "source": [
        "### useful: extract classes from the chinook database\n",
        "metadata = sqlalchemy.MetaData()\n",
        "metadata.reflect(engine)\n",
        "\n",
        "## we need to do this once\n",
        "from sqlalchemy.ext.automap import automap_base\n",
        "\n",
        "# produce a set of mappings from this MetaData.\n",
        "Base = automap_base(metadata=metadata)\n",
        "\n",
        "# calling prepare() just sets up mapped classes and relationships.\n",
        "Base.prepare()\n",
        "\n",
        "# also prepare an orm session\n",
        "from sqlalchemy.orm import sessionmaker\n",
        "Session = sessionmaker(bind=engine)\n",
        "session = Session()"
      ],
      "metadata": {
        "colab": {
          "base_uri": "https://localhost:8080/",
          "height": 216
        },
        "id": "aneoVqF00LbF",
        "outputId": "77656d8e-741a-45c4-cad0-99e859fdb388"
      },
      "execution_count": 3,
      "outputs": [
        {
          "output_type": "error",
          "ename": "NameError",
          "evalue": "name 'sqlalchemy' is not defined",
          "traceback": [
            "\u001b[0;31m---------------------------------------------------------------------------\u001b[0m",
            "\u001b[0;31mNameError\u001b[0m                                 Traceback (most recent call last)",
            "\u001b[0;32m<ipython-input-3-a2d7378d59d0>\u001b[0m in \u001b[0;36m<cell line: 2>\u001b[0;34m()\u001b[0m\n\u001b[1;32m      1\u001b[0m \u001b[0;31m### useful: extract classes from the chinook database\u001b[0m\u001b[0;34m\u001b[0m\u001b[0;34m\u001b[0m\u001b[0m\n\u001b[0;32m----> 2\u001b[0;31m \u001b[0mmetadata\u001b[0m \u001b[0;34m=\u001b[0m \u001b[0msqlalchemy\u001b[0m\u001b[0;34m.\u001b[0m\u001b[0mMetaData\u001b[0m\u001b[0;34m(\u001b[0m\u001b[0;34m)\u001b[0m\u001b[0;34m\u001b[0m\u001b[0;34m\u001b[0m\u001b[0m\n\u001b[0m\u001b[1;32m      3\u001b[0m \u001b[0mmetadata\u001b[0m\u001b[0;34m.\u001b[0m\u001b[0mreflect\u001b[0m\u001b[0;34m(\u001b[0m\u001b[0mengine\u001b[0m\u001b[0;34m)\u001b[0m\u001b[0;34m\u001b[0m\u001b[0;34m\u001b[0m\u001b[0m\n\u001b[1;32m      4\u001b[0m \u001b[0;34m\u001b[0m\u001b[0m\n\u001b[1;32m      5\u001b[0m \u001b[0;31m## we need to do this once\u001b[0m\u001b[0;34m\u001b[0m\u001b[0;34m\u001b[0m\u001b[0m\n",
            "\u001b[0;31mNameError\u001b[0m: name 'sqlalchemy' is not defined"
          ]
        }
      ]
    },
    {
      "cell_type": "code",
      "source": [
        "import sqlalchemy\n",
        "from sqlalchemy.orm import sessionmaker\n",
        "from sqlalchemy.ext.automap import automap_base\n",
        "import pandas as pd\n",
        "\n",
        "# Правильный путь к базе данных\n",
        "db_path = '/content/chinook.db'\n",
        "\n",
        "# Создаем движок SQLAlchemy для работы с локальной базой данных\n",
        "engine = sqlalchemy.create_engine(f'sqlite:///{db_path}')\n",
        "\n",
        "# Устанавливаем соединение с базой данных\n",
        "connection = engine.connect()\n",
        "\n",
        "# Отображаем (рефлектим) метаданные базы данных\n",
        "metadata = sqlalchemy.MetaData()\n",
        "metadata.reflect(bind=engine)\n",
        "\n",
        "# Подготавливаем классы, отображающие таблицы базы данных\n",
        "Base = automap_base(metadata=metadata)\n",
        "Base.prepare()\n",
        "\n",
        "# Создаем ORM-сессию\n",
        "Session = sessionmaker(bind=engine)\n",
        "session = Session()\n",
        "\n",
        "# Функции для выполнения SQL-запросов и отображения результатов\n",
        "def sql(query):\n",
        "    print()\n",
        "    print(query)\n",
        "    print()\n",
        "\n",
        "def get_results(query):\n",
        "    q = query.statement if isinstance(query, sqlalchemy.orm.query.Query) else query\n",
        "    return pd.read_sql(q, engine)\n",
        "\n",
        "def display_results(query):\n",
        "    df = get_results(query)\n",
        "    display(df)\n",
        "    sql(query)\n",
        "\n"
      ],
      "metadata": {
        "id": "66yvl0YC0Z23"
      },
      "execution_count": 9,
      "outputs": []
    },
    {
      "cell_type": "code",
      "source": [
        "table_names = metadata.tables.keys()\n",
        "\n",
        "for table_name in table_names:\n",
        "    print(table_name)"
      ],
      "metadata": {
        "colab": {
          "base_uri": "https://localhost:8080/"
        },
        "id": "zZ72vaPx0-AO",
        "outputId": "eac25435-bbbc-4a35-aa0e-644b4f07e7ad"
      },
      "execution_count": 10,
      "outputs": [
        {
          "output_type": "stream",
          "name": "stdout",
          "text": [
            "albums\n",
            "artists\n",
            "customers\n",
            "employees\n",
            "genres\n",
            "invoice_items\n",
            "tracks\n",
            "media_types\n",
            "invoices\n",
            "playlist_track\n",
            "playlists\n"
          ]
        }
      ]
    },
    {
      "cell_type": "code",
      "source": [
        "Tracks = Base.classes.tracks\n",
        "\n",
        "first_three_tracks = session.query(Tracks).limit(3).all()\n",
        "\n",
        "print(\"Fitst three tracks:\")\n",
        "for track in first_three_tracks:\n",
        "    print(f\"ID: {track.TrackId}, Name: {track.Name}, Album ID: {track.AlbumId}, Length: {track.Milliseconds} мs\")"
      ],
      "metadata": {
        "colab": {
          "base_uri": "https://localhost:8080/"
        },
        "id": "qERxppco1mku",
        "outputId": "3b047e2d-c67f-431c-ca4e-d8aab5e36078"
      },
      "execution_count": 12,
      "outputs": [
        {
          "output_type": "stream",
          "name": "stdout",
          "text": [
            "Fitst three tracks:\n",
            "ID: 1, Name: For Those About To Rock (We Salute You), Album ID: 1, Length: 343719 мс\n",
            "ID: 2, Name: Balls to the Wall, Album ID: 2, Length: 342562 мс\n",
            "ID: 3, Name: Fast As a Shark, Album ID: 3, Length: 230619 мс\n"
          ]
        }
      ]
    },
    {
      "cell_type": "code",
      "source": [
        "Tracks = Base.classes.tracks\n",
        "Albums = Base.classes.albums\n",
        "\n",
        "query = session.query(Tracks.Name, Albums.Title).join(Albums, Tracks.AlbumId == Albums.AlbumId).limit(20)\n",
        "\n",
        "print(\"FFirst 20 tracks and their albums:\")\n",
        "for track_name, album_title in query:\n",
        "    print(f\"Track: {track_name}, Album: {album_title}\")"
      ],
      "metadata": {
        "colab": {
          "base_uri": "https://localhost:8080/"
        },
        "id": "_lLle7r92A2-",
        "outputId": "4844c224-a133-4b70-9568-e5ed54ac653a"
      },
      "execution_count": 14,
      "outputs": [
        {
          "output_type": "stream",
          "name": "stdout",
          "text": [
            "FFirst 20 tracks and their albums:\n",
            "Track: For Those About To Rock (We Salute You), Album: For Those About To Rock We Salute You\n",
            "Track: Put The Finger On You, Album: For Those About To Rock We Salute You\n",
            "Track: Let's Get It Up, Album: For Those About To Rock We Salute You\n",
            "Track: Inject The Venom, Album: For Those About To Rock We Salute You\n",
            "Track: Snowballed, Album: For Those About To Rock We Salute You\n",
            "Track: Evil Walks, Album: For Those About To Rock We Salute You\n",
            "Track: C.O.D., Album: For Those About To Rock We Salute You\n",
            "Track: Breaking The Rules, Album: For Those About To Rock We Salute You\n",
            "Track: Night Of The Long Knives, Album: For Those About To Rock We Salute You\n",
            "Track: Spellbound, Album: For Those About To Rock We Salute You\n",
            "Track: Balls to the Wall, Album: Balls to the Wall\n",
            "Track: Fast As a Shark, Album: Restless and Wild\n",
            "Track: Restless and Wild, Album: Restless and Wild\n",
            "Track: Princess of the Dawn, Album: Restless and Wild\n",
            "Track: Go Down, Album: Let There Be Rock\n",
            "Track: Dog Eat Dog, Album: Let There Be Rock\n",
            "Track: Let There Be Rock, Album: Let There Be Rock\n",
            "Track: Bad Boy Boogie, Album: Let There Be Rock\n",
            "Track: Problem Child, Album: Let There Be Rock\n",
            "Track: Overdose, Album: Let There Be Rock\n"
          ]
        }
      ]
    },
    {
      "cell_type": "code",
      "source": [
        "InvoiceItems = Base.classes.invoice_items\n",
        "Tracks = Base.classes.tracks\n",
        "\n",
        "query = session.query(Tracks.Name, InvoiceItems.Quantity).join(Tracks, InvoiceItems.TrackId == Tracks.TrackId).limit(10)\n",
        "\n",
        "print(\"First 10 sales:\")\n",
        "for track_name, quantity in query:\n",
        "    print(f\"Track: {track_name}, QTY Sold {quantity}\")"
      ],
      "metadata": {
        "colab": {
          "base_uri": "https://localhost:8080/"
        },
        "id": "vwIpSGUd2Kg5",
        "outputId": "40142d72-ec5b-4435-fac1-5d56824b7cfd"
      },
      "execution_count": 15,
      "outputs": [
        {
          "output_type": "stream",
          "name": "stdout",
          "text": [
            "First 10 sales:\n",
            "Track: Balls to the Wall, QTY Sold 1\n",
            "Track: Restless and Wild, QTY Sold 1\n",
            "Track: Put The Finger On You, QTY Sold 1\n",
            "Track: Inject The Venom, QTY Sold 1\n",
            "Track: Evil Walks, QTY Sold 1\n",
            "Track: Breaking The Rules, QTY Sold 1\n",
            "Track: Dog Eat Dog, QTY Sold 1\n",
            "Track: Overdose, QTY Sold 1\n",
            "Track: Love In An Elevator, QTY Sold 1\n",
            "Track: Janie's Got A Gun, QTY Sold 1\n"
          ]
        }
      ]
    },
    {
      "cell_type": "code",
      "source": [
        "# Получаем классы для таблиц 'invoice_items' и 'tracks'\n",
        "InvoiceItems = Base.classes.invoice_items\n",
        "Tracks = Base.classes.tracks\n",
        "\n",
        "query = session.query(Tracks.Name, sqlalchemy.func.sum(InvoiceItems.Quantity).label('total_sold'))\\\n",
        "               .join(Tracks, InvoiceItems.TrackId == Tracks.TrackId)\\\n",
        "               .group_by(Tracks.Name)\\\n",
        "               .order_by(sqlalchemy.desc('total_sold'))\\\n",
        "               .limit(10)\n",
        "\n",
        "print(\"Top 10 mnost selling tracks:\")\n",
        "for track_name, total_sold in query:\n",
        "    print(f\"Track: {track_name}, Times sold: {total_sold}\")"
      ],
      "metadata": {
        "colab": {
          "base_uri": "https://localhost:8080/"
        },
        "id": "BfULVIWZ2ldC",
        "outputId": "0740d06b-18d7-4711-8f94-ed037980cf12"
      },
      "execution_count": 16,
      "outputs": [
        {
          "output_type": "stream",
          "name": "stdout",
          "text": [
            "Top 10 mnost selling tracks:\n",
            "Track: The Trooper, Times sold: 5\n",
            "Track: Untitled, Times sold: 4\n",
            "Track: The Number Of The Beast, Times sold: 4\n",
            "Track: Sure Know Something, Times sold: 4\n",
            "Track: Hallowed Be Thy Name, Times sold: 4\n",
            "Track: Eruption, Times sold: 4\n",
            "Track: Where Eagles Dare, Times sold: 3\n",
            "Track: Welcome Home (Sanitarium), Times sold: 3\n",
            "Track: Sweetest Thing, Times sold: 3\n",
            "Track: Surrender, Times sold: 3\n"
          ]
        }
      ]
    },
    {
      "cell_type": "code",
      "source": [
        "InvoiceItems = Base.classes.invoice_items\n",
        "Tracks = Base.classes.tracks\n",
        "Albums = Base.classes.albums\n",
        "Artists = Base.classes.artists\n",
        "\n",
        "query = session.query(Artists.Name, sqlalchemy.func.sum(InvoiceItems.Quantity).label('total_sold'))\\\n",
        "               .join(Tracks, InvoiceItems.TrackId == Tracks.TrackId)\\\n",
        "               .join(Albums, Tracks.AlbumId == Albums.AlbumId)\\\n",
        "               .join(Artists, Albums.ArtistId == Artists.ArtistId)\\\n",
        "               .group_by(Artists.Name)\\\n",
        "               .order_by(sqlalchemy.desc('total_sold'))\\\n",
        "               .limit(10)\n",
        "\n",
        "# Выведем результат\n",
        "print(\"Top 10 most selling artists:\")\n",
        "for artist_name, total_sold in query:\n",
        "    print(f\"Artist: {artist_name}, Tracks sold: {total_sold}\")"
      ],
      "metadata": {
        "colab": {
          "base_uri": "https://localhost:8080/"
        },
        "id": "0pkLakcQ3Bl0",
        "outputId": "5442a6bc-d059-4736-c6f6-803085250aa7"
      },
      "execution_count": 17,
      "outputs": [
        {
          "output_type": "stream",
          "name": "stdout",
          "text": [
            "Top 10 most selling artists:\n",
            "Artist: Iron Maiden, Tracks sold: 140\n",
            "Artist: U2, Tracks sold: 107\n",
            "Artist: Metallica, Tracks sold: 91\n",
            "Artist: Led Zeppelin, Tracks sold: 87\n",
            "Artist: Os Paralamas Do Sucesso, Tracks sold: 45\n",
            "Artist: Deep Purple, Tracks sold: 44\n",
            "Artist: Faith No More, Tracks sold: 42\n",
            "Artist: Lost, Tracks sold: 41\n",
            "Artist: Eric Clapton, Tracks sold: 40\n",
            "Artist: R.E.M., Tracks sold: 39\n"
          ]
        }
      ]
    }
  ]
}