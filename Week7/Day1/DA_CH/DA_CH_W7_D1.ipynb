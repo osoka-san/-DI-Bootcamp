{
  "nbformat": 4,
  "nbformat_minor": 0,
  "metadata": {
    "colab": {
      "provenance": []
    },
    "kernelspec": {
      "name": "python3",
      "display_name": "Python 3"
    },
    "language_info": {
      "name": "python"
    }
  },
  "cells": [
    {
      "cell_type": "markdown",
      "source": [
        "What You Will Learn\n",
        "\n",
        "Gain an understanding of the basics of web scraping using Python libraries.\n",
        "Learn how to use the requests library to send HTTP requests and receive responses.\n",
        "Understand how to use BeautifulSoup to parse HTML content and extract data.\n",
        "Acquire skills in extracting specific information like movie ratings and details using HTML tags.\n",
        "Learn how to manipulate and store extracted data using Pandas, a powerful data analysis tool in Python.\n",
        "\n",
        "\n",
        "What You Will Create\n",
        "\n",
        "A Python script to scrape the GitHub Topics webpage.\n",
        "Utilizing BeautifulSoup to parse the saved HTML content of the GitHub Topics page.\n",
        "A dictionary into a pandas DataFrame for better data manipulation and analysis.\n",
        "\n",
        "\n",
        "Web Scraping:\n",
        "\n",
        "use this website : Github/topics\n",
        "Write a Python script using the requests library to fetch the HTML content of the chosen website.\n",
        "Print the status code of the response to ensure the request was successful using .status_code, it should be 200.\n",
        "Print the first 100 characters of the HTML content to verify the response.\n",
        "Save the HTML content to a file named webpage.html. Ensure you handle the text encoding correctly.\n",
        "Use BeautifulSoup to parse the saved HTML content.\n",
        "Identify two distinct pieces of information on the webpage to extract (e.g., titles of the topics and their descriptions).\n",
        "Write code to extract these pieces of information. Ensure you identify the correct HTML tags and classes used for these elements on the webpage.\n",
        "Print the length and content of each extracted list to verify the extraction process.\n",
        "Create a Python dictionary to structure the extracted data, with keys representing the type of information (e.g., ‘title’ and ‘description’).\n",
        "Convert this dictionary into a pandas DataFrame.\n",
        "Print the DataFrame to confirm its structure and contents.\n"
      ],
      "metadata": {
        "id": "CB2dAN24v8aN"
      }
    },
    {
      "cell_type": "code",
      "source": [
        "import requests\n",
        "from bs4 import BeautifulSoup\n",
        "import pandas as pd\n",
        "\n",
        "url = 'https://github.com/topics'\n",
        "response = requests.get(url)\n",
        "\n",
        "print(f'Status Code: {response.status_code}')"
      ],
      "metadata": {
        "colab": {
          "base_uri": "https://localhost:8080/"
        },
        "id": "AKEA53mCv-XQ",
        "outputId": "db5f225a-c895-4817-dcdd-7e17e3e6cdf5"
      },
      "execution_count": 1,
      "outputs": [
        {
          "output_type": "stream",
          "name": "stdout",
          "text": [
            "Status Code: 200\n"
          ]
        }
      ]
    },
    {
      "cell_type": "code",
      "source": [
        "print(response.text[:100])"
      ],
      "metadata": {
        "colab": {
          "base_uri": "https://localhost:8080/"
        },
        "id": "vlG3zaz3wJ6W",
        "outputId": "3ddebf13-9233-4f71-ff60-d0b885ccbea6"
      },
      "execution_count": 2,
      "outputs": [
        {
          "output_type": "stream",
          "name": "stdout",
          "text": [
            "\n",
            "\n",
            "<!DOCTYPE html>\n",
            "<html\n",
            "  lang=\"en\"\n",
            "  \n",
            "  data-color-mode=\"auto\" data-light-theme=\"light\" data-dark-t\n"
          ]
        }
      ]
    },
    {
      "cell_type": "code",
      "source": [
        "with open('webpage.html', 'w', encoding='utf-8') as file:\n",
        "    file.write(response.text)"
      ],
      "metadata": {
        "id": "VrCAhbQSwOt4"
      },
      "execution_count": 3,
      "outputs": []
    },
    {
      "cell_type": "code",
      "source": [
        "with open('webpage.html', 'r', encoding='utf-8') as file:\n",
        "    content = file.read()\n",
        "\n",
        "soup = BeautifulSoup(content, 'html.parser')"
      ],
      "metadata": {
        "id": "QBZqVcCKwXpR"
      },
      "execution_count": 4,
      "outputs": []
    },
    {
      "cell_type": "code",
      "source": [
        "topic_title_tags = soup.find_all('p', {'class': 'f3 lh-condensed mb-0 mt-1 Link--primary'})\n",
        "topic_titles = [tag.text.strip() for tag in topic_title_tags]\n",
        "\n",
        "topic_desc_tags = soup.find_all('p', {'class': 'f5 color-fg-muted mb-0 mt-1'})\n",
        "topic_descriptions = [tag.text.strip() for tag in topic_desc_tags]\n",
        "\n",
        "print(f'Number of Topics Found: {len(topic_titles)}')\n",
        "print(topic_titles)\n",
        "\n",
        "print(f'Number of Descriptions Found: {len(topic_descriptions)}')\n",
        "print(topic_descriptions)\n",
        "\n"
      ],
      "metadata": {
        "colab": {
          "base_uri": "https://localhost:8080/"
        },
        "id": "o76Yhrhbwm4e",
        "outputId": "5536ef9b-78a6-4aab-d41c-f60c49073142"
      },
      "execution_count": 15,
      "outputs": [
        {
          "output_type": "stream",
          "name": "stdout",
          "text": [
            "Number of Topics Found: 30\n",
            "['3D', 'Ajax', 'Algorithm', 'Amp', 'Android', 'Angular', 'Ansible', 'API', 'Arduino', 'ASP.NET', 'Awesome Lists', 'Amazon Web Services', 'Azure', 'Babel', 'Bash', 'Bitcoin', 'Bootstrap', 'Bot', 'C', 'Chrome', 'Chrome extension', 'Command-line interface', 'Clojure', 'Code quality', 'Code review', 'Compiler', 'Continuous integration', 'C++', 'Cryptocurrency', 'Crystal']\n",
            "Number of Descriptions Found: 30\n",
            "['3D refers to the use of three-dimensional graphics, modeling, and animation in various industries.', 'Ajax is a technique for creating interactive web applications.', 'Algorithms are self-contained sequences that carry out a variety of tasks.', 'Amp is a non-blocking concurrency library for PHP.', 'Android is an operating system built by Google designed for mobile devices.', 'Angular is an open source web application platform.', 'Ansible is a simple and powerful automation engine.', 'An API (Application Programming Interface) is a collection of protocols and subroutines for building software.', 'Arduino is an open source platform for building electronic devices.', 'ASP.NET is a web framework for building modern web apps and services.', 'An awesome list is a list of awesome things curated by the community.', 'Amazon Web Services provides on-demand cloud computing platforms on a subscription basis.', 'Azure is a cloud computing service created by Microsoft.', 'Babel is a compiler for writing next generation JavaScript, today.', 'Bash is a shell and command language interpreter for the GNU operating system.', 'Bitcoin is a cryptocurrency developed by Satoshi Nakamoto.', 'Bootstrap is an HTML, CSS, and JavaScript framework.', 'A bot is an application that runs automated tasks over the Internet.', 'C is a general purpose programming language that first appeared in 1972.', 'Chrome is a web browser from the tech company Google.', 'Chrome extensions enable users to customize the Chrome browsing experience.', 'A CLI, or command-line interface, is a console that helps users issue commands to a program.', 'Clojure is a dynamic, general-purpose programming language.', 'Automate your code review with style, quality, security, and test‑coverage checks when you need them.', 'Ensure your code meets quality standards and ship with confidence.', 'Compilers are software that translate higher-level programming languages to lower-level languages (e.g. machine code).', 'Automatically build and test your code as you push it upstream, preventing bugs from being deployed to production.', 'C++ is a general purpose and object-oriented programming language.', 'A cryptocurrency is a digital currency that uses cryptography.', 'Crystal is a self-hosted, general purpose programming language.']\n"
          ]
        }
      ]
    },
    {
      "cell_type": "code",
      "source": [
        "data = {\n",
        "    'Title': topic_titles,\n",
        "    'Description': topic_descriptions\n",
        "}\n",
        "\n",
        "df = pd.DataFrame(data)\n",
        "\n",
        "print(df)"
      ],
      "metadata": {
        "colab": {
          "base_uri": "https://localhost:8080/"
        },
        "id": "ntd7c49_wpT-",
        "outputId": "4e6dd82a-e9d5-43cc-8056-231fc6652f4d"
      },
      "execution_count": 16,
      "outputs": [
        {
          "output_type": "stream",
          "name": "stdout",
          "text": [
            "                     Title                                        Description\n",
            "0                       3D  3D refers to the use of three-dimensional grap...\n",
            "1                     Ajax  Ajax is a technique for creating interactive w...\n",
            "2                Algorithm  Algorithms are self-contained sequences that c...\n",
            "3                      Amp  Amp is a non-blocking concurrency library for ...\n",
            "4                  Android  Android is an operating system built by Google...\n",
            "5                  Angular  Angular is an open source web application plat...\n",
            "6                  Ansible  Ansible is a simple and powerful automation en...\n",
            "7                      API  An API (Application Programming Interface) is ...\n",
            "8                  Arduino  Arduino is an open source platform for buildin...\n",
            "9                  ASP.NET  ASP.NET is a web framework for building modern...\n",
            "10           Awesome Lists  An awesome list is a list of awesome things cu...\n",
            "11     Amazon Web Services  Amazon Web Services provides on-demand cloud c...\n",
            "12                   Azure  Azure is a cloud computing service created by ...\n",
            "13                   Babel  Babel is a compiler for writing next generatio...\n",
            "14                    Bash  Bash is a shell and command language interpret...\n",
            "15                 Bitcoin  Bitcoin is a cryptocurrency developed by Satos...\n",
            "16               Bootstrap  Bootstrap is an HTML, CSS, and JavaScript fram...\n",
            "17                     Bot  A bot is an application that runs automated ta...\n",
            "18                       C  C is a general purpose programming language th...\n",
            "19                  Chrome  Chrome is a web browser from the tech company ...\n",
            "20        Chrome extension  Chrome extensions enable users to customize th...\n",
            "21  Command-line interface  A CLI, or command-line interface, is a console...\n",
            "22                 Clojure  Clojure is a dynamic, general-purpose programm...\n",
            "23            Code quality  Automate your code review with style, quality,...\n",
            "24             Code review  Ensure your code meets quality standards and s...\n",
            "25                Compiler  Compilers are software that translate higher-l...\n",
            "26  Continuous integration  Automatically build and test your code as you ...\n",
            "27                     C++  C++ is a general purpose and object-oriented p...\n",
            "28          Cryptocurrency  A cryptocurrency is a digital currency that us...\n",
            "29                 Crystal  Crystal is a self-hosted, general purpose prog...\n"
          ]
        }
      ]
    }
  ]
}