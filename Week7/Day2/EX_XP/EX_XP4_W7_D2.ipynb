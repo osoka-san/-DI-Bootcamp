{
  "nbformat": 4,
  "nbformat_minor": 0,
  "metadata": {
    "colab": {
      "provenance": []
    },
    "kernelspec": {
      "name": "python3",
      "display_name": "Python 3"
    },
    "language_info": {
      "name": "python"
    }
  },
  "cells": [
    {
      "cell_type": "markdown",
      "source": [
        "🌟 Exercise 4 : Scrape And Categorize News Articles From A JavaScript-Enabled News Site\n",
        "\n",
        "Task:\n",
        "\n",
        "Visit a section of a news website (e.g., the Technology section of BBC News).\n",
        "Scrape news article titles and their publication dates.\n",
        "Categorize articles based on their publication month.\n",
        "Instructions:\n",
        "\n",
        "Use Selenium to navigate to a specific news section on the website.\n",
        "Extract and parse the HTML content that is dynamically loaded via JavaScript.\n",
        "Using BeautifulSoup, extract news article titles and publication dates.\n",
        "Categorize articles by their publication month (e.g., ‘January’, ‘February’, etc.).\n",
        "Print the categorized lists of articles."
      ],
      "metadata": {
        "id": "WYYaT-UBpmOR"
      }
    },
    {
      "cell_type": "code",
      "source": [
        "import requests\n",
        "from bs4 import BeautifulSoup\n",
        "from collections import defaultdict\n",
        "from datetime import datetime\n",
        "\n",
        "url = 'https://feeds.bbci.co.uk/news/technology/rss.xml'\n",
        "\n",
        "response = requests.get(url)\n",
        "\n",
        "if response.status_code != 200:\n",
        "    print(f\"Failed to retrieve data: {response.status_code}\")\n",
        "    exit()\n",
        "\n",
        "soup = BeautifulSoup(response.content, 'xml')\n",
        "\n",
        "items = soup.find_all('item')\n",
        "\n",
        "categorized_articles = defaultdict(list)\n",
        "\n",
        "for item in items:\n",
        "    title = item.title.text.strip()\n",
        "    pub_date = item.pubDate.text.strip()\n",
        "    date_obj = datetime.strptime(pub_date, '%a, %d %b %Y %H:%M:%S %Z')\n",
        "    month = date_obj.strftime('%B')\n",
        "\n",
        "    categorized_articles[month].append((title, date_obj.date()))\n",
        "\n",
        "for month, articles in categorized_articles.items():\n",
        "    print(f\"Articles Published in {month}:\")\n",
        "    for idx, (title, date) in enumerate(articles, 1):\n",
        "        print(f\"{idx}. [{date}] {title}\")\n",
        "    print('-' * 60)"
      ],
      "metadata": {
        "colab": {
          "base_uri": "https://localhost:8080/"
        },
        "id": "KH9sPRXrp3v2",
        "outputId": "9a17d97e-ed3f-49f7-ff8d-c115513b9909"
      },
      "execution_count": 6,
      "outputs": [
        {
          "output_type": "stream",
          "name": "stdout",
          "text": [
            "Articles Published in September:\n",
            "1. [2024-09-23] Telegram will now provide some user data to authorities\n",
            "2. [2024-09-23] CrowdStrike: Company to face questions over global IT outage\n",
            "3. [2024-09-21] MrBeast is YouTube's biggest star - now he faces 54-page lawsuit\n",
            "4. [2024-09-20] A Tamagotchi comeback? Toy gets first UK store as global sales double\n",
            "5. [2024-09-20] Sky Glass customers complain as TVs won't turn on\n",
            "6. [2024-09-20] LinkedIn suspends AI training using UK user data\n",
            "7. [2024-09-20] Taiwan says it did not make Hezbollah pager parts\n",
            "8. [2024-09-19] 'Hunger Games' studio Lionsgate announce AI video deal\n",
            "9. [2024-09-19] Nintendo sues 'Pokémon with guns' video game firm\n",
            "10. [2024-09-19] Brazil fines Musk's X for site's return after ban\n",
            "11. [2024-09-18] MrBeast and Amazon named in lawsuit over Beast Games\n",
            "12. [2024-09-18] Google scores rare legal win as 1.49bn euro fine scrapped\n",
            "13. [2024-09-17] Instagram boosts privacy and parental control on teen accounts\n",
            "14. [2024-09-18] The Plucky Squire: From Pokémon to a page-turning indie hit\n",
            "15. [2024-09-17] Facebook owner bans Russian state media networks\n",
            "16. [2024-09-17] Secret Service 'aware' of Elon Musk post about Harris, Biden\n",
            "17. [2024-09-15] Women in tech groups 'can’t run on inspiration alone'\n",
            "18. [2024-09-16] TikTok says US ban would have ‘staggering’ impact on free speech\n",
            "19. [2024-09-12] Boy arrested over London transport cyber hack\n",
            "20. [2024-09-12] Microsoft lays off more gaming staff in new cuts\n",
            "21. [2024-09-13] Vodafone clashes with watchdog over Three merger\n",
            "22. [2024-09-10] Sony reveals much more expensive and powerful PlayStation 5 Pro\n",
            "23. [2024-09-10] EU court rules Google must pay €2.4bn fine\n",
            "24. [2024-09-10] Apple told to pay Ireland €13bn in tax by EU\n",
            "25. [2024-09-09] Apple banks on AI to boost sales of new iPhone 16\n",
            "26. [2024-09-09] Could powerful lasers unlock cheap fusion power?\n",
            "27. [2024-09-08] Google's lucrative ad tech business goes on trial\n",
            "28. [2024-09-06] Google abusing ad tech dominance, UK competition watchdog finds\n",
            "29. [2024-09-06] Thieves snatched his phone in London - it was in China a month later\n",
            "30. [2024-09-06] Man accused of using bots and AI to earn streaming revenue\n",
            "31. [2024-09-06] Telegram CEO Durov says his arrest 'misguided'\n",
            "32. [2024-09-06] Astro Bot: Could the old-school hit reshape PS5's future?\n",
            "33. [2024-09-05] Trump says Musk could head 'government efficiency' force\n",
            "34. [2024-09-23] Tigers and crocs make mangrove preservation tough work\n",
            "35. [2024-09-19] Would you let AI plan your next holiday?\n",
            "36. [2024-09-19] Why hundreds of Samsung workers are protesting in India\n",
            "37. [2024-09-12] New beanless 'coffee' emerges but does it taste any good?\n",
            "38. [2024-09-05] Crash dummies and robot arms: How airline seats are tested\n",
            "39. [2024-09-20] Will sustainable aviation fuels take off?\n",
            "40. [2024-09-02] Young workers drive South Africa's video games industry\n",
            "------------------------------------------------------------\n",
            "Articles Published in August:\n",
            "1. [2024-08-27] Tech Life: The voice cloning lawsuit\n",
            "2. [2024-08-25] Five tips for turning gaming from a hobby to a job\n",
            "3. [2024-08-20] Tech Life: AI helps doctors detect lung cancer\n",
            "4. [2024-08-20] Could this little robot help rehabilitate stroke patients?\n",
            "5. [2024-08-13] Tech Life: Olympic esports and Saudi Arabia\n",
            "6. [2024-08-07] NYC using drones to warn residents of floods\n",
            "7. [2024-08-06] Tech Life: Turning the tables on romance scammers\n",
            "8. [2024-08-05] ‘Pig butchering’ scammers target BBC reporter\n",
            "9. [2024-08-30] Telegram: 'The dark web in your pocket'\n",
            "10. [2024-08-22] When vets are scarce what can farmers do?\n",
            "11. [2024-08-19] The mind-bending mirrors behind advanced technology\n",
            "12. [2024-08-15] Is this the end for the magnetic stripe?\n",
            "13. [2024-08-14] No laughing matter - how AI is helping comedians write jokes\n",
            "14. [2024-08-12] The 'superfood' taking over fields in northern India\n",
            "15. [2024-08-08] Could Australia become a green hydrogen superpower?\n",
            "16. [2024-08-05] Is carbon capture an efficient way to tackle CO2?\n",
            "------------------------------------------------------------\n",
            "Articles Published in July:\n",
            "1. [2024-07-30] Tech Life: When the power goes\n",
            "2. [2024-07-25] Lawmaker uses AI voice clone to address Congress\n",
            "3. [2024-07-23] Tech Life: Turning the racetrack electric\n",
            "4. [2024-07-19] BBC News\n",
            "5. [2024-07-16] Tech Life: Athletes using technology to improve performance\n",
            "6. [2024-07-10] Moment Ariane-6 rocket blasts into space on first flight\n",
            "7. [2024-07-09] Tech Life: The tech that refuses to die\n",
            "8. [2024-07-02] How to decode your social media feeds this election\n",
            "9. [2024-07-02] Tech Life: If we could talk to the animals\n",
            "10. [2024-07-31] Can technology fix the 'broken' concert ticketing system?\n",
            "11. [2024-07-24] Would-be reality TV contestants 'not looking real'\n",
            "12. [2024-07-24] Why tech bros are turning to Trump\n",
            "13. [2024-07-18] What will future aerial dogfights look like?\n",
            "14. [2024-07-15] How AI is fuelling uncertainty for game developers\n",
            "------------------------------------------------------------\n",
            "Articles Published in June:\n",
            "1. [2024-06-12] Investigating crime scenes in virtual reality\n",
            "2. [2024-06-25] Tech Life: Detecting cancer using AI\n",
            "3. [2024-06-18] Tech Life: Bionic arms and robotic thumbs\n",
            "------------------------------------------------------------\n"
          ]
        }
      ]
    },
    {
      "cell_type": "markdown",
      "source": [],
      "metadata": {
        "id": "b9G0OzEpvEzh"
      }
    },
    {
      "cell_type": "code",
      "source": [],
      "metadata": {
        "id": "YL2n2I8uvEi1"
      },
      "execution_count": null,
      "outputs": []
    },
    {
      "cell_type": "markdown",
      "source": [],
      "metadata": {
        "id": "6MubVcAkqPad"
      }
    }
  ]
}